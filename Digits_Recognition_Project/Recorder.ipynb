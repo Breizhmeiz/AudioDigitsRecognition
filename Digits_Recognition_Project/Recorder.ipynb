{
 "cells": [
  {
   "cell_type": "markdown",
   "id": "66129826",
   "metadata": {},
   "source": [
    "# Reconnaissance des Digits basée sur les enregistrements Audios "
   ]
  },
  {
   "cell_type": "markdown",
   "id": "3391081e",
   "metadata": {},
   "source": [
    "### Importer les bibliothéques necessaires "
   ]
  },
  {
   "cell_type": "code",
   "execution_count": 1,
   "id": "37668a1f",
   "metadata": {},
   "outputs": [],
   "source": [
    "import os"
   ]
  },
  {
   "cell_type": "code",
   "execution_count": 2,
   "id": "09fd5701",
   "metadata": {},
   "outputs": [
    {
     "data": {
      "text/plain": [
       "<module 'Tools.tools' from '/home/romain/Documents/Projects/AudioDigitsRecognition/Digits_Recognition_Project/Tools/tools.py'>"
      ]
     },
     "execution_count": 2,
     "metadata": {},
     "output_type": "execute_result"
    }
   ],
   "source": [
    "# Pour le dev rec2\n",
    "from importlib import reload  # Python 3.4+\n",
    "\n",
    "import Tools.tools\n",
    "reload(Tools.tools)"
   ]
  },
  {
   "cell_type": "code",
   "execution_count": 3,
   "id": "81d3e525",
   "metadata": {},
   "outputs": [],
   "source": [
    "from Tools.tools import rec_m"
   ]
  },
  {
   "cell_type": "markdown",
   "id": "244ff64a",
   "metadata": {},
   "source": [
    "# Application en Temps Réel"
   ]
  },
  {
   "cell_type": "markdown",
   "id": "79a1271f",
   "metadata": {},
   "source": [
    "## Import du modèle"
   ]
  },
  {
   "cell_type": "code",
   "execution_count": 4,
   "id": "ac939490",
   "metadata": {},
   "outputs": [
    {
     "data": {
      "text/plain": [
       "Pipeline(steps=[('gb',\n",
       "                 GradientBoostingClassifier(criterion='mse',\n",
       "                                            n_estimators=131))])"
      ]
     },
     "execution_count": 4,
     "metadata": {},
     "output_type": "execute_result"
    }
   ],
   "source": [
    "# Avec pickle\n",
    "from pickle import load\n",
    "# load the model from disk\n",
    "filename = 'best_model.pkl'\n",
    "model = load(open(filename, 'rb'))\n",
    "model"
   ]
  },
  {
   "cell_type": "code",
   "execution_count": 12,
   "id": "34c463de",
   "metadata": {},
   "outputs": [
    {
     "ename": "FileNotFoundError",
     "evalue": "[Errno 2] No such file or directory: 'best_model.sav'",
     "output_type": "error",
     "traceback": [
      "\u001b[0;31m---------------------------------------------------------------------------\u001b[0m",
      "\u001b[0;31mFileNotFoundError\u001b[0m                         Traceback (most recent call last)",
      "Input \u001b[0;32mIn [12]\u001b[0m, in \u001b[0;36m<cell line: 5>\u001b[0;34m()\u001b[0m\n\u001b[1;32m      3\u001b[0m \u001b[38;5;66;03m# load the model from disk\u001b[39;00m\n\u001b[1;32m      4\u001b[0m filename \u001b[38;5;241m=\u001b[39m \u001b[38;5;124m'\u001b[39m\u001b[38;5;124mbest_model.sav\u001b[39m\u001b[38;5;124m'\u001b[39m\n\u001b[0;32m----> 5\u001b[0m model \u001b[38;5;241m=\u001b[39m \u001b[43mload\u001b[49m\u001b[43m(\u001b[49m\u001b[43mfilename\u001b[49m\u001b[43m)\u001b[49m\n\u001b[1;32m      6\u001b[0m model\n",
      "File \u001b[0;32m~/.local/lib/python3.9/site-packages/joblib/numpy_pickle.py:579\u001b[0m, in \u001b[0;36mload\u001b[0;34m(filename, mmap_mode)\u001b[0m\n\u001b[1;32m    577\u001b[0m         obj \u001b[38;5;241m=\u001b[39m _unpickle(fobj)\n\u001b[1;32m    578\u001b[0m \u001b[38;5;28;01melse\u001b[39;00m:\n\u001b[0;32m--> 579\u001b[0m     \u001b[38;5;28;01mwith\u001b[39;00m \u001b[38;5;28;43mopen\u001b[39;49m\u001b[43m(\u001b[49m\u001b[43mfilename\u001b[49m\u001b[43m,\u001b[49m\u001b[43m \u001b[49m\u001b[38;5;124;43m'\u001b[39;49m\u001b[38;5;124;43mrb\u001b[39;49m\u001b[38;5;124;43m'\u001b[39;49m\u001b[43m)\u001b[49m \u001b[38;5;28;01mas\u001b[39;00m f:\n\u001b[1;32m    580\u001b[0m         \u001b[38;5;28;01mwith\u001b[39;00m _read_fileobject(f, filename, mmap_mode) \u001b[38;5;28;01mas\u001b[39;00m fobj:\n\u001b[1;32m    581\u001b[0m             \u001b[38;5;28;01mif\u001b[39;00m \u001b[38;5;28misinstance\u001b[39m(fobj, \u001b[38;5;28mstr\u001b[39m):\n\u001b[1;32m    582\u001b[0m                 \u001b[38;5;66;03m# if the returned file object is a string, this means we\u001b[39;00m\n\u001b[1;32m    583\u001b[0m                 \u001b[38;5;66;03m# try to load a pickle file generated with an version of\u001b[39;00m\n\u001b[1;32m    584\u001b[0m                 \u001b[38;5;66;03m# Joblib so we load it with joblib compatibility function.\u001b[39;00m\n",
      "\u001b[0;31mFileNotFoundError\u001b[0m: [Errno 2] No such file or directory: 'best_model.sav'"
     ]
    }
   ],
   "source": [
    "# Avec joblib\n",
    "from joblib import load\n",
    "# load the model from disk\n",
    "filename = 'best_model.sav'\n",
    "model = load(filename)\n",
    "model"
   ]
  },
  {
   "cell_type": "markdown",
   "id": "4b147b27",
   "metadata": {},
   "source": [
    "## Faire un test"
   ]
  },
  {
   "cell_type": "code",
   "execution_count": 5,
   "id": "458b7420",
   "metadata": {},
   "outputs": [
    {
     "name": "stdout",
     "output_type": "stream",
     "text": [
      "Attention, l'enregistrement commence dans :\n",
      "3\n",
      "2\n",
      "1\n",
      "Prononcer votre Digit : \n",
      "------------------\n",
      "Digit (prédiction) :  4.0\n",
      "------------------\n"
     ]
    },
    {
     "name": "stderr",
     "output_type": "stream",
     "text": [
      "/home/romain/Documents/Projects/AudioDigitsRecognition/Digits_Recognition_Project/Tools/tools.py:47: RuntimeWarning: invalid value encountered in true_divide\n",
      "  data = data / data.max() * np.iinfo(np.int16).max\n"
     ]
    }
   ],
   "source": [
    "pred = rec_m(model)"
   ]
  },
  {
   "cell_type": "code",
   "execution_count": 6,
   "id": "92151781",
   "metadata": {
    "scrolled": true
   },
   "outputs": [
    {
     "name": "stdout",
     "output_type": "stream",
     "text": [
      "Prediction :  4\n",
      "4.0\n"
     ]
    }
   ],
   "source": [
    "# Affichage de la prédiction :\n",
    "\n",
    "print(\"Prediction : \", round(pred[0]))\n",
    "for p in pred:\n",
    "    print(p)"
   ]
  },
  {
   "cell_type": "code",
   "execution_count": 17,
   "id": "5dbc0261",
   "metadata": {},
   "outputs": [
    {
     "name": "stdout",
     "output_type": "stream",
     "text": [
      "Prediction :  8\n",
      "1.2842228e-05\n",
      "1.168119e-05\n",
      "0.04477706\n",
      "4.4606674e-09\n",
      "2.7987691e-05\n",
      "7.7646353e-13\n",
      "4.1664563e-07\n",
      "0.025582615\n",
      "0.9295874\n",
      "1.8169417e-09\n"
     ]
    }
   ],
   "source": [
    "# Pour Tensorflow :\n",
    "import numpy as np\n",
    "\n",
    "print(\"Prediction : \", np.argmax(pred[0]))\n",
    "for p in pred[0]:\n",
    "    print(p)"
   ]
  },
  {
   "cell_type": "code",
   "execution_count": null,
   "id": "1b335769",
   "metadata": {},
   "outputs": [],
   "source": []
  },
  {
   "cell_type": "code",
   "execution_count": null,
   "id": "3b8486cd",
   "metadata": {},
   "outputs": [],
   "source": []
  }
 ],
 "metadata": {
  "jupytext": {
   "formats": "ipynb,auto:hydrogen"
  },
  "kernelspec": {
   "display_name": "Python 3 (ipykernel)",
   "language": "python",
   "name": "python3"
  },
  "language_info": {
   "codemirror_mode": {
    "name": "ipython",
    "version": 3
   },
   "file_extension": ".py",
   "mimetype": "text/x-python",
   "name": "python",
   "nbconvert_exporter": "python",
   "pygments_lexer": "ipython3",
   "version": "3.9.2"
  }
 },
 "nbformat": 4,
 "nbformat_minor": 5
}
