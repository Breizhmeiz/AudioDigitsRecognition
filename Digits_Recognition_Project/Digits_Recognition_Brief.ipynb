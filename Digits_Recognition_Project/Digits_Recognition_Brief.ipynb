{
 "cells": [
  {
   "cell_type": "markdown",
   "metadata": {},
   "source": [
    "# Reconnaissance des Digits basée sur les enregistrements Audios "
   ]
  },
  {
   "cell_type": "markdown",
   "metadata": {},
   "source": [
    "### Importer les bibliothéques necessaires "
   ]
  },
  {
   "cell_type": "code",
   "execution_count": 1,
   "metadata": {},
   "outputs": [],
   "source": [
    "from Tools.tools import rec\n",
    "from Tools.tools import collection\n",
    "import numpy as np\n",
    "import os\n",
    "import matplotlib.pyplot as plt\n",
    "import seaborn as sb\n",
    "sb.set_style(\"whitegrid\", {'axes.grid' : False})\n",
    "sb.set(font_scale = 2)\n",
    "import pandas as pd\n",
    "from sklearn.model_selection import train_test_split\n",
    "from sklearn.preprocessing import StandardScaler\n",
    "from sklearn.tree import DecisionTreeClassifier\n",
    "from sklearn.ensemble import RandomForestClassifier\n",
    "from sklearn.ensemble import GradientBoostingClassifier\n",
    "from sklearn.svm import SVC\n",
    "from sklearn.neural_network import MLPClassifier "
   ]
  },
  {
   "cell_type": "markdown",
   "metadata": {},
   "source": [
    "### Collection "
   ]
  },
  {
   "cell_type": "code",
   "execution_count": 2,
   "metadata": {},
   "outputs": [],
   "source": [
    "# collection()"
   ]
  },
  {
   "cell_type": "markdown",
   "metadata": {},
   "source": [
    "#### 1. Importer votre DataSet"
   ]
  },
  {
   "cell_type": "code",
   "execution_count": 3,
   "metadata": {},
   "outputs": [
    {
     "data": {
      "text/plain": [
       "(230, 13)"
      ]
     },
     "execution_count": 3,
     "metadata": {},
     "output_type": "execute_result"
    }
   ],
   "source": [
    "mydata = pd.read_csv('./DataSet/'+os.listdir('./DataSet/')[0])\n",
    "mydata.shape"
   ]
  },
  {
   "cell_type": "markdown",
   "metadata": {},
   "source": [
    "##### Print"
   ]
  },
  {
   "cell_type": "code",
   "execution_count": 4,
   "metadata": {},
   "outputs": [
    {
     "data": {
      "text/html": [
       "<div>\n",
       "<style scoped>\n",
       "    .dataframe tbody tr th:only-of-type {\n",
       "        vertical-align: middle;\n",
       "    }\n",
       "\n",
       "    .dataframe tbody tr th {\n",
       "        vertical-align: top;\n",
       "    }\n",
       "\n",
       "    .dataframe thead th {\n",
       "        text-align: right;\n",
       "    }\n",
       "</style>\n",
       "<table border=\"1\" class=\"dataframe\">\n",
       "  <thead>\n",
       "    <tr style=\"text-align: right;\">\n",
       "      <th></th>\n",
       "      <th>Fe1</th>\n",
       "      <th>Fe2</th>\n",
       "      <th>Fe3</th>\n",
       "      <th>Fe4</th>\n",
       "      <th>Fe5</th>\n",
       "      <th>Fe6</th>\n",
       "      <th>Fe7</th>\n",
       "      <th>Fe8</th>\n",
       "      <th>Fe9</th>\n",
       "      <th>Fe10</th>\n",
       "      <th>Fe11</th>\n",
       "      <th>Fe12</th>\n",
       "      <th>Target</th>\n",
       "    </tr>\n",
       "  </thead>\n",
       "  <tbody>\n",
       "    <tr>\n",
       "      <th>0</th>\n",
       "      <td>13.925822</td>\n",
       "      <td>-9.692369</td>\n",
       "      <td>3.753776</td>\n",
       "      <td>1.327168</td>\n",
       "      <td>2.975534</td>\n",
       "      <td>-7.993735</td>\n",
       "      <td>-0.575305</td>\n",
       "      <td>-7.071838</td>\n",
       "      <td>-8.511768</td>\n",
       "      <td>-1.650743</td>\n",
       "      <td>-2.721607</td>\n",
       "      <td>-5.412130</td>\n",
       "      <td>0.0</td>\n",
       "    </tr>\n",
       "    <tr>\n",
       "      <th>1</th>\n",
       "      <td>14.055519</td>\n",
       "      <td>-8.598112</td>\n",
       "      <td>-0.383220</td>\n",
       "      <td>-7.007748</td>\n",
       "      <td>-1.833112</td>\n",
       "      <td>-7.642512</td>\n",
       "      <td>4.104115</td>\n",
       "      <td>-0.713202</td>\n",
       "      <td>-4.826460</td>\n",
       "      <td>-2.594968</td>\n",
       "      <td>-5.888919</td>\n",
       "      <td>-5.624817</td>\n",
       "      <td>1.0</td>\n",
       "    </tr>\n",
       "    <tr>\n",
       "      <th>2</th>\n",
       "      <td>13.864094</td>\n",
       "      <td>-8.834997</td>\n",
       "      <td>1.500129</td>\n",
       "      <td>-7.639205</td>\n",
       "      <td>2.511519</td>\n",
       "      <td>-0.771141</td>\n",
       "      <td>4.451372</td>\n",
       "      <td>-5.286776</td>\n",
       "      <td>-12.323968</td>\n",
       "      <td>-8.869542</td>\n",
       "      <td>-5.942759</td>\n",
       "      <td>-6.046688</td>\n",
       "      <td>2.0</td>\n",
       "    </tr>\n",
       "    <tr>\n",
       "      <th>3</th>\n",
       "      <td>14.147140</td>\n",
       "      <td>-8.770026</td>\n",
       "      <td>2.766291</td>\n",
       "      <td>-7.528646</td>\n",
       "      <td>-3.671171</td>\n",
       "      <td>-10.579631</td>\n",
       "      <td>1.028021</td>\n",
       "      <td>-1.223803</td>\n",
       "      <td>-4.780219</td>\n",
       "      <td>-0.336830</td>\n",
       "      <td>0.487315</td>\n",
       "      <td>-3.639368</td>\n",
       "      <td>3.0</td>\n",
       "    </tr>\n",
       "    <tr>\n",
       "      <th>4</th>\n",
       "      <td>12.662124</td>\n",
       "      <td>-21.488978</td>\n",
       "      <td>-4.017699</td>\n",
       "      <td>-10.286525</td>\n",
       "      <td>-3.537687</td>\n",
       "      <td>-6.191114</td>\n",
       "      <td>2.452089</td>\n",
       "      <td>-0.002252</td>\n",
       "      <td>-2.034508</td>\n",
       "      <td>-1.515711</td>\n",
       "      <td>0.145741</td>\n",
       "      <td>0.618533</td>\n",
       "      <td>4.0</td>\n",
       "    </tr>\n",
       "  </tbody>\n",
       "</table>\n",
       "</div>"
      ],
      "text/plain": [
       "         Fe1        Fe2       Fe3        Fe4       Fe5        Fe6       Fe7  \\\n",
       "0  13.925822  -9.692369  3.753776   1.327168  2.975534  -7.993735 -0.575305   \n",
       "1  14.055519  -8.598112 -0.383220  -7.007748 -1.833112  -7.642512  4.104115   \n",
       "2  13.864094  -8.834997  1.500129  -7.639205  2.511519  -0.771141  4.451372   \n",
       "3  14.147140  -8.770026  2.766291  -7.528646 -3.671171 -10.579631  1.028021   \n",
       "4  12.662124 -21.488978 -4.017699 -10.286525 -3.537687  -6.191114  2.452089   \n",
       "\n",
       "        Fe8        Fe9      Fe10      Fe11      Fe12  Target  \n",
       "0 -7.071838  -8.511768 -1.650743 -2.721607 -5.412130     0.0  \n",
       "1 -0.713202  -4.826460 -2.594968 -5.888919 -5.624817     1.0  \n",
       "2 -5.286776 -12.323968 -8.869542 -5.942759 -6.046688     2.0  \n",
       "3 -1.223803  -4.780219 -0.336830  0.487315 -3.639368     3.0  \n",
       "4 -0.002252  -2.034508 -1.515711  0.145741  0.618533     4.0  "
      ]
     },
     "execution_count": 4,
     "metadata": {},
     "output_type": "execute_result"
    }
   ],
   "source": [
    "mydata.head()"
   ]
  },
  {
   "cell_type": "markdown",
   "metadata": {},
   "source": [
    "#### 2. Checker les variables quantitatives/qualitatives et les valeurs manquantes "
   ]
  },
  {
   "cell_type": "code",
   "execution_count": 5,
   "metadata": {},
   "outputs": [
    {
     "data": {
      "text/plain": [
       "Fe1       False\n",
       "Fe2       False\n",
       "Fe3       False\n",
       "Fe4       False\n",
       "Fe5       False\n",
       "Fe6       False\n",
       "Fe7       False\n",
       "Fe8       False\n",
       "Fe9       False\n",
       "Fe10      False\n",
       "Fe11      False\n",
       "Fe12      False\n",
       "Target    False\n",
       "dtype: bool"
      ]
     },
     "execution_count": 5,
     "metadata": {},
     "output_type": "execute_result"
    }
   ],
   "source": [
    "#mydata.describe()\n",
    "#mydata.corr().style.background_gradient(cmap='coolwarm').set_precision(2)\n",
    "mydata.isna().any()"
   ]
  },
  {
   "cell_type": "markdown",
   "metadata": {},
   "source": [
    "#### 3. Visualiser les targets"
   ]
  },
  {
   "cell_type": "code",
   "execution_count": 6,
   "metadata": {},
   "outputs": [
    {
     "data": {
      "text/plain": [
       "0      0.0\n",
       "1      1.0\n",
       "2      2.0\n",
       "3      3.0\n",
       "4      4.0\n",
       "      ... \n",
       "225    5.0\n",
       "226    6.0\n",
       "227    7.0\n",
       "228    8.0\n",
       "229    9.0\n",
       "Name: Target, Length: 230, dtype: float64"
      ]
     },
     "execution_count": 6,
     "metadata": {},
     "output_type": "execute_result"
    }
   ],
   "source": [
    "mydata['Target']"
   ]
  },
  {
   "cell_type": "markdown",
   "metadata": {},
   "source": [
    "#### 4. Notre variable target (Y) est 'gender', Récuprer X et y à partir du jeu de données "
   ]
  },
  {
   "cell_type": "code",
   "execution_count": 7,
   "metadata": {},
   "outputs": [
    {
     "data": {
      "text/plain": [
       "(230, 12)"
      ]
     },
     "execution_count": 7,
     "metadata": {},
     "output_type": "execute_result"
    }
   ],
   "source": [
    "y = mydata['Target']\n",
    "X = mydata.iloc[:,:-1]\n",
    "X.shape"
   ]
  },
  {
   "cell_type": "code",
   "execution_count": 8,
   "metadata": {},
   "outputs": [
    {
     "data": {
      "text/plain": [
       "(230,)"
      ]
     },
     "execution_count": 8,
     "metadata": {},
     "output_type": "execute_result"
    }
   ],
   "source": [
    "y.shape"
   ]
  },
  {
   "cell_type": "markdown",
   "metadata": {},
   "source": [
    "#### 5. Diviser la DataSet en donneés d'apprentissage et de test (20% pour le test)"
   ]
  },
  {
   "cell_type": "code",
   "execution_count": 9,
   "metadata": {},
   "outputs": [
    {
     "name": "stdout",
     "output_type": "stream",
     "text": [
      "(184, 12) (46, 12)\n",
      "(184,) (46,)\n"
     ]
    }
   ],
   "source": [
    "x_train, x_test, y_train, y_test = train_test_split(X, y, test_size=20/100)\n",
    "print(x_train.shape, x_test.shape)\n",
    "print(y_train.shape, y_test.shape)"
   ]
  },
  {
   "cell_type": "markdown",
   "metadata": {},
   "source": [
    "#### 6. Appliquer une normalisation centrée-réduite aux données en utilisant \"StandardScaler\""
   ]
  },
  {
   "cell_type": "code",
   "execution_count": 10,
   "metadata": {},
   "outputs": [],
   "source": [
    "from sklearn.preprocessing import StandardScaler\n",
    "\n",
    "scaler = StandardScaler().fit(X.copy())\n",
    "x_train_scaled = scaler.transform(x_train)\n",
    "\n",
    "#And we want to apply this transformation to a new dataset called New_data\n",
    "x_test_scaled = scaler.transform(x_test)"
   ]
  },
  {
   "cell_type": "code",
   "execution_count": 11,
   "metadata": {},
   "outputs": [
    {
     "name": "stdout",
     "output_type": "stream",
     "text": [
      "0.0015639963631606199 1.0054202941614272\n",
      "-0.006255985452642043 0.9779934594162264\n"
     ]
    }
   ],
   "source": [
    "print(x_train_scaled.mean(), x_train_scaled.std())\n",
    "print(x_test_scaled.mean(), x_test_scaled.std())"
   ]
  },
  {
   "cell_type": "markdown",
   "metadata": {},
   "source": [
    "#### 7. Développer votre meilleur modèle de classification"
   ]
  },
  {
   "cell_type": "markdown",
   "metadata": {},
   "source": [
    "##### SVM"
   ]
  },
  {
   "cell_type": "code",
   "execution_count": 19,
   "metadata": {},
   "outputs": [
    {
     "name": "stdout",
     "output_type": "stream",
     "text": [
      "[0.1883, 0.18831, 0.18832, 0.18833, 0.18834, 0.18835, 0.18836, 0.18837, 0.18838, 0.18839]\n",
      "Best score :  0.679129129129129\n",
      "Best param :  {'C': 0.1883, 'dual': False}\n"
     ]
    }
   ],
   "source": [
    "from sklearn.svm import LinearSVC\n",
    "from sklearn.model_selection import GridSearchCV\n",
    "#best_C = np.logspace(1,9,num=9,base=10,dtype='int')  # range() avec pas logarithmique (de 2^1 à 2^9)\n",
    "#best_C = range(1, 100, 10)\n",
    "best_C = range(1, 10)\n",
    "best_C = [i/100000 for i in range(18830, 18840)]\n",
    "# 138 : 0.6518018018018019\n",
    "# 100 : 0.6518018018018019\n",
    "#   1 : 0.6783783783783783\n",
    "#   2 : 0.6840840840840843\n",
    "# .19 : 0.6837837837837838\n",
    "#.1883\n",
    "print(best_C)\n",
    "grid = GridSearchCV(LinearSVC(), {'C': best_C, 'dual': [False]})\n",
    "grid.fit(x_train_scaled, y_train)\n",
    "print(\"Best score : \", grid.best_score_)\n",
    "print(\"Best param : \", grid.best_params_)"
   ]
  },
  {
   "cell_type": "code",
   "execution_count": 20,
   "metadata": {},
   "outputs": [
    {
     "data": {
      "text/plain": [
       "LinearSVC(C=0.1883, dual=False)"
      ]
     },
     "execution_count": 20,
     "metadata": {},
     "output_type": "execute_result"
    }
   ],
   "source": [
    "model = grid.best_estimator_\n",
    "model.fit(x_train_scaled, y_train)"
   ]
  },
  {
   "cell_type": "markdown",
   "metadata": {},
   "source": [
    "##### Tensorflow"
   ]
  },
  {
   "cell_type": "code",
   "execution_count": 24,
   "metadata": {},
   "outputs": [
    {
     "name": "stdout",
     "output_type": "stream",
     "text": [
      "Epoch 1/20\n",
      "2/2 [==============================] - 0s 4ms/step - loss: 2.3268 - accuracy: 0.0761\n",
      "Epoch 2/20\n",
      "2/2 [==============================] - 0s 8ms/step - loss: 2.2302 - accuracy: 0.2065\n",
      "Epoch 3/20\n",
      "2/2 [==============================] - 0s 5ms/step - loss: 2.1599 - accuracy: 0.3859\n",
      "Epoch 4/20\n",
      "2/2 [==============================] - 0s 7ms/step - loss: 2.0949 - accuracy: 0.4130\n",
      "Epoch 5/20\n",
      "2/2 [==============================] - 0s 8ms/step - loss: 2.0281 - accuracy: 0.4728\n",
      "Epoch 6/20\n",
      "2/2 [==============================] - 0s 8ms/step - loss: 1.9618 - accuracy: 0.5054\n",
      "Epoch 7/20\n",
      "2/2 [==============================] - 0s 7ms/step - loss: 1.8907 - accuracy: 0.5217\n",
      "Epoch 8/20\n",
      "2/2 [==============================] - 0s 6ms/step - loss: 1.8178 - accuracy: 0.5217\n",
      "Epoch 9/20\n",
      "2/2 [==============================] - 0s 5ms/step - loss: 1.7381 - accuracy: 0.5435\n",
      "Epoch 10/20\n",
      "2/2 [==============================] - 0s 6ms/step - loss: 1.6555 - accuracy: 0.5543\n",
      "Epoch 11/20\n",
      "2/2 [==============================] - 0s 5ms/step - loss: 1.5710 - accuracy: 0.5870\n",
      "Epoch 12/20\n",
      "2/2 [==============================] - 0s 7ms/step - loss: 1.4862 - accuracy: 0.6141\n",
      "Epoch 13/20\n",
      "2/2 [==============================] - 0s 5ms/step - loss: 1.3993 - accuracy: 0.6250\n",
      "Epoch 14/20\n",
      "2/2 [==============================] - 0s 5ms/step - loss: 1.3146 - accuracy: 0.6522\n",
      "Epoch 15/20\n",
      "2/2 [==============================] - 0s 5ms/step - loss: 1.2314 - accuracy: 0.6848\n",
      "Epoch 16/20\n",
      "2/2 [==============================] - 0s 6ms/step - loss: 1.1522 - accuracy: 0.7228\n",
      "Epoch 17/20\n",
      "2/2 [==============================] - 0s 6ms/step - loss: 1.0766 - accuracy: 0.7609\n",
      "Epoch 18/20\n",
      "2/2 [==============================] - 0s 7ms/step - loss: 1.0061 - accuracy: 0.8043\n",
      "Epoch 19/20\n",
      "2/2 [==============================] - 0s 8ms/step - loss: 0.9439 - accuracy: 0.8043\n",
      "Epoch 20/20\n",
      "2/2 [==============================] - 0s 6ms/step - loss: 0.8816 - accuracy: 0.8098\n"
     ]
    }
   ],
   "source": [
    "from keras import models\n",
    "from keras import layers\n",
    "\n",
    "model = models.Sequential()\n",
    "model.add(layers.Dense(256, activation='relu', input_shape=(x_train_scaled.shape[1],)))\n",
    "model.add(layers.Dense(128, activation='relu'))\n",
    "model.add(layers.Dense(64, activation='relu'))\n",
    "model.add(layers.Dense(10, activation='softmax'))\n",
    "\n",
    "model.compile(optimizer='adam',\n",
    "              loss='sparse_categorical_crossentropy',\n",
    "              metrics=['accuracy'])\n",
    "\n",
    "# Entrainement du modèle\n",
    "history = model.fit(x_train_scaled,\n",
    "                    y_train,\n",
    "                    epochs=20,\n",
    "                    batch_size=128)"
   ]
  },
  {
   "cell_type": "code",
   "execution_count": 25,
   "metadata": {},
   "outputs": [
    {
     "name": "stdout",
     "output_type": "stream",
     "text": [
      "2/2 [==============================] - 0s 3ms/step - loss: 1.2662 - accuracy: 0.6522\n",
      "test_acc:  0.6521739363670349\n",
      "Meilleure predictions pour :  2\n"
     ]
    }
   ],
   "source": [
    "# évaluation du modèle\n",
    "test_loss, test_acc = model.evaluate(x_test_scaled, y_test)\n",
    "print('test_acc: ',test_acc)\n",
    "\n",
    "# Predictions\n",
    "predictions = model.predict(x_test_scaled)\n",
    "print(\"Meilleure predictions pour : \", np.argmax(predictions[0]))"
   ]
  },
  {
   "cell_type": "markdown",
   "metadata": {},
   "source": [
    "##### XGBoost"
   ]
  },
  {
   "cell_type": "code",
   "execution_count": 58,
   "metadata": {},
   "outputs": [
    {
     "ename": "XGBoostError",
     "evalue": "[16:46:53] C:/Users/Administrator/workspace/xgboost-win64_release_1.5.1/src/objective/regression_obj.cu:58: Check failed: preds.Size() == info.labels_.Size() (184 vs. 0) :  labels are not correctly providedpreds.size=184, label.size=0, Loss: binary:logistic",
     "output_type": "error",
     "traceback": [
      "\u001b[1;31m---------------------------------------------------------------------------\u001b[0m",
      "\u001b[1;31mXGBoostError\u001b[0m                              Traceback (most recent call last)",
      "\u001b[1;32m<ipython-input-58-90f6d2aef68a>\u001b[0m in \u001b[0;36m<module>\u001b[1;34m\u001b[0m\n\u001b[0;32m      6\u001b[0m \u001b[0mparam\u001b[0m \u001b[1;33m=\u001b[0m \u001b[1;33m{\u001b[0m\u001b[1;34m'max_depth'\u001b[0m\u001b[1;33m:\u001b[0m\u001b[1;36m2\u001b[0m\u001b[1;33m,\u001b[0m \u001b[1;34m'eta'\u001b[0m\u001b[1;33m:\u001b[0m\u001b[1;36m1\u001b[0m\u001b[1;33m,\u001b[0m \u001b[1;34m'objective'\u001b[0m\u001b[1;33m:\u001b[0m\u001b[1;34m'binary:logistic'\u001b[0m \u001b[1;33m}\u001b[0m\u001b[1;33m\u001b[0m\u001b[1;33m\u001b[0m\u001b[0m\n\u001b[0;32m      7\u001b[0m \u001b[0mnum_round\u001b[0m \u001b[1;33m=\u001b[0m \u001b[1;36m2\u001b[0m\u001b[1;33m\u001b[0m\u001b[1;33m\u001b[0m\u001b[0m\n\u001b[1;32m----> 8\u001b[1;33m \u001b[0mbst\u001b[0m \u001b[1;33m=\u001b[0m \u001b[0mxgb\u001b[0m\u001b[1;33m.\u001b[0m\u001b[0mtrain\u001b[0m\u001b[1;33m(\u001b[0m\u001b[0mparam\u001b[0m\u001b[1;33m,\u001b[0m \u001b[0mdtrain\u001b[0m\u001b[1;33m,\u001b[0m \u001b[0mnum_round\u001b[0m\u001b[1;33m)\u001b[0m\u001b[1;33m\u001b[0m\u001b[1;33m\u001b[0m\u001b[0m\n\u001b[0m\u001b[0;32m      9\u001b[0m \u001b[1;31m# make prediction\u001b[0m\u001b[1;33m\u001b[0m\u001b[1;33m\u001b[0m\u001b[1;33m\u001b[0m\u001b[0m\n\u001b[0;32m     10\u001b[0m \u001b[0mpreds\u001b[0m \u001b[1;33m=\u001b[0m \u001b[0mbst\u001b[0m\u001b[1;33m.\u001b[0m\u001b[0mpredict\u001b[0m\u001b[1;33m(\u001b[0m\u001b[0mdtest\u001b[0m\u001b[1;33m)\u001b[0m\u001b[1;33m\u001b[0m\u001b[1;33m\u001b[0m\u001b[0m\n",
      "\u001b[1;32m~\\anaconda3\\envs\\datascience\\lib\\site-packages\\xgboost\\training.py\u001b[0m in \u001b[0;36mtrain\u001b[1;34m(params, dtrain, num_boost_round, evals, obj, feval, maximize, early_stopping_rounds, evals_result, verbose_eval, xgb_model, callbacks)\u001b[0m\n\u001b[0;32m    186\u001b[0m     \u001b[0mBooster\u001b[0m \u001b[1;33m:\u001b[0m \u001b[0ma\u001b[0m \u001b[0mtrained\u001b[0m \u001b[0mbooster\u001b[0m \u001b[0mmodel\u001b[0m\u001b[1;33m\u001b[0m\u001b[1;33m\u001b[0m\u001b[0m\n\u001b[0;32m    187\u001b[0m     \"\"\"\n\u001b[1;32m--> 188\u001b[1;33m     bst = _train_internal(params, dtrain,\n\u001b[0m\u001b[0;32m    189\u001b[0m                           \u001b[0mnum_boost_round\u001b[0m\u001b[1;33m=\u001b[0m\u001b[0mnum_boost_round\u001b[0m\u001b[1;33m,\u001b[0m\u001b[1;33m\u001b[0m\u001b[1;33m\u001b[0m\u001b[0m\n\u001b[0;32m    190\u001b[0m                           \u001b[0mevals\u001b[0m\u001b[1;33m=\u001b[0m\u001b[0mevals\u001b[0m\u001b[1;33m,\u001b[0m\u001b[1;33m\u001b[0m\u001b[1;33m\u001b[0m\u001b[0m\n",
      "\u001b[1;32m~\\anaconda3\\envs\\datascience\\lib\\site-packages\\xgboost\\training.py\u001b[0m in \u001b[0;36m_train_internal\u001b[1;34m(params, dtrain, num_boost_round, evals, obj, feval, xgb_model, callbacks, evals_result, maximize, verbose_eval, early_stopping_rounds)\u001b[0m\n\u001b[0;32m     79\u001b[0m         \u001b[1;32mif\u001b[0m \u001b[0mcallbacks\u001b[0m\u001b[1;33m.\u001b[0m\u001b[0mbefore_iteration\u001b[0m\u001b[1;33m(\u001b[0m\u001b[0mbst\u001b[0m\u001b[1;33m,\u001b[0m \u001b[0mi\u001b[0m\u001b[1;33m,\u001b[0m \u001b[0mdtrain\u001b[0m\u001b[1;33m,\u001b[0m \u001b[0mevals\u001b[0m\u001b[1;33m)\u001b[0m\u001b[1;33m:\u001b[0m\u001b[1;33m\u001b[0m\u001b[1;33m\u001b[0m\u001b[0m\n\u001b[0;32m     80\u001b[0m             \u001b[1;32mbreak\u001b[0m\u001b[1;33m\u001b[0m\u001b[1;33m\u001b[0m\u001b[0m\n\u001b[1;32m---> 81\u001b[1;33m         \u001b[0mbst\u001b[0m\u001b[1;33m.\u001b[0m\u001b[0mupdate\u001b[0m\u001b[1;33m(\u001b[0m\u001b[0mdtrain\u001b[0m\u001b[1;33m,\u001b[0m \u001b[0mi\u001b[0m\u001b[1;33m,\u001b[0m \u001b[0mobj\u001b[0m\u001b[1;33m)\u001b[0m\u001b[1;33m\u001b[0m\u001b[1;33m\u001b[0m\u001b[0m\n\u001b[0m\u001b[0;32m     82\u001b[0m         \u001b[1;32mif\u001b[0m \u001b[0mcallbacks\u001b[0m\u001b[1;33m.\u001b[0m\u001b[0mafter_iteration\u001b[0m\u001b[1;33m(\u001b[0m\u001b[0mbst\u001b[0m\u001b[1;33m,\u001b[0m \u001b[0mi\u001b[0m\u001b[1;33m,\u001b[0m \u001b[0mdtrain\u001b[0m\u001b[1;33m,\u001b[0m \u001b[0mevals\u001b[0m\u001b[1;33m)\u001b[0m\u001b[1;33m:\u001b[0m\u001b[1;33m\u001b[0m\u001b[1;33m\u001b[0m\u001b[0m\n\u001b[0;32m     83\u001b[0m             \u001b[1;32mbreak\u001b[0m\u001b[1;33m\u001b[0m\u001b[1;33m\u001b[0m\u001b[0m\n",
      "\u001b[1;32m~\\anaconda3\\envs\\datascience\\lib\\site-packages\\xgboost\\core.py\u001b[0m in \u001b[0;36mupdate\u001b[1;34m(self, dtrain, iteration, fobj)\u001b[0m\n\u001b[0;32m   1678\u001b[0m \u001b[1;33m\u001b[0m\u001b[0m\n\u001b[0;32m   1679\u001b[0m         \u001b[1;32mif\u001b[0m \u001b[0mfobj\u001b[0m \u001b[1;32mis\u001b[0m \u001b[1;32mNone\u001b[0m\u001b[1;33m:\u001b[0m\u001b[1;33m\u001b[0m\u001b[1;33m\u001b[0m\u001b[0m\n\u001b[1;32m-> 1680\u001b[1;33m             _check_call(_LIB.XGBoosterUpdateOneIter(self.handle,\n\u001b[0m\u001b[0;32m   1681\u001b[0m                                                     \u001b[0mctypes\u001b[0m\u001b[1;33m.\u001b[0m\u001b[0mc_int\u001b[0m\u001b[1;33m(\u001b[0m\u001b[0miteration\u001b[0m\u001b[1;33m)\u001b[0m\u001b[1;33m,\u001b[0m\u001b[1;33m\u001b[0m\u001b[1;33m\u001b[0m\u001b[0m\n\u001b[0;32m   1682\u001b[0m                                                     dtrain.handle))\n",
      "\u001b[1;32m~\\anaconda3\\envs\\datascience\\lib\\site-packages\\xgboost\\core.py\u001b[0m in \u001b[0;36m_check_call\u001b[1;34m(ret)\u001b[0m\n\u001b[0;32m    216\u001b[0m     \"\"\"\n\u001b[0;32m    217\u001b[0m     \u001b[1;32mif\u001b[0m \u001b[0mret\u001b[0m \u001b[1;33m!=\u001b[0m \u001b[1;36m0\u001b[0m\u001b[1;33m:\u001b[0m\u001b[1;33m\u001b[0m\u001b[1;33m\u001b[0m\u001b[0m\n\u001b[1;32m--> 218\u001b[1;33m         \u001b[1;32mraise\u001b[0m \u001b[0mXGBoostError\u001b[0m\u001b[1;33m(\u001b[0m\u001b[0mpy_str\u001b[0m\u001b[1;33m(\u001b[0m\u001b[0m_LIB\u001b[0m\u001b[1;33m.\u001b[0m\u001b[0mXGBGetLastError\u001b[0m\u001b[1;33m(\u001b[0m\u001b[1;33m)\u001b[0m\u001b[1;33m)\u001b[0m\u001b[1;33m)\u001b[0m\u001b[1;33m\u001b[0m\u001b[1;33m\u001b[0m\u001b[0m\n\u001b[0m\u001b[0;32m    219\u001b[0m \u001b[1;33m\u001b[0m\u001b[0m\n\u001b[0;32m    220\u001b[0m \u001b[1;33m\u001b[0m\u001b[0m\n",
      "\u001b[1;31mXGBoostError\u001b[0m: [16:46:53] C:/Users/Administrator/workspace/xgboost-win64_release_1.5.1/src/objective/regression_obj.cu:58: Check failed: preds.Size() == info.labels_.Size() (184 vs. 0) :  labels are not correctly providedpreds.size=184, label.size=0, Loss: binary:logistic"
     ]
    }
   ],
   "source": [
    "import xgboost as xgb\n",
    "# read in data\n",
    "dtrain = xgb.DMatrix(x_train)\n",
    "dtest = xgb.DMatrix(x_test)\n",
    "# specify parameters via map\n",
    "param = {'max_depth':2, 'eta':1, 'objective':'binary:logistic' }\n",
    "num_round = 2\n",
    "bst = xgb.train(param, dtrain, num_round)\n",
    "# make prediction\n",
    "preds = bst.predict(dtest)\n"
   ]
  },
  {
   "cell_type": "code",
   "execution_count": 72,
   "metadata": {},
   "outputs": [
    {
     "name": "stdout",
     "output_type": "stream",
     "text": [
      "RMSE: 2.338177\n",
      "   train-rmse-mean  train-rmse-std  test-rmse-mean  test-rmse-std\n",
      "0         4.748199        0.113509        4.776503       0.275267\n",
      "1         4.414920        0.090305        4.481198       0.268509\n",
      "2         4.141613        0.081497        4.225046       0.257551\n",
      "3         3.886535        0.082728        3.991379       0.229127\n",
      "4         3.646764        0.088456        3.779880       0.223214\n",
      "Meilleur :  49    2.299618\n",
      "Name: test-rmse-mean, dtype: float64\n"
     ]
    }
   ],
   "source": [
    "import xgboost as xgb\n",
    "from sklearn.metrics import mean_squared_error\n",
    "\n",
    "# Optimiser la structure des données\n",
    "data_dmatrix = xgb.DMatrix(data=x_train,label=y_train)\n",
    "xg_reg = xgb.XGBRegressor(objective ='reg:squarederror', colsample_bytree = 0.3, learning_rate = 0.1,\n",
    "                max_depth = 5, alpha = 10, n_estimators = 10)\n",
    "xg_reg.fit(x_train,y_train)\n",
    "\n",
    "preds = xg_reg.predict(x_test)\n",
    "\n",
    "rmse = np.sqrt(mean_squared_error(y_test, preds))\n",
    "print(\"RMSE: %f\" % (rmse))\n",
    "\n",
    "# k-fold Cross Validation\n",
    "params = {\"objective\":\"reg:squarederror\",'colsample_bytree': 0.3,'learning_rate': 0.1,\n",
    "                'max_depth': 5, 'alpha': 10}\n",
    "\n",
    "cv_results = xgb.cv(dtrain=data_dmatrix, params=params, nfold=3,\n",
    "                    num_boost_round=50,early_stopping_rounds=10,metrics=\"rmse\", as_pandas=True, seed=123)\n",
    "print(cv_results.head())\n",
    "\n",
    "print(\"Meilleur : \", (cv_results[\"test-rmse-mean\"]).tail(1))"
   ]
  },
  {
   "cell_type": "code",
   "execution_count": null,
   "metadata": {},
   "outputs": [],
   "source": []
  },
  {
   "cell_type": "markdown",
   "metadata": {},
   "source": [
    "# Application en Temps Réel"
   ]
  },
  {
   "cell_type": "code",
   "execution_count": 26,
   "metadata": {},
   "outputs": [],
   "source": [
    "# del rec\n",
    "from Tools.tools import rec"
   ]
  },
  {
   "cell_type": "code",
   "execution_count": 46,
   "metadata": {},
   "outputs": [
    {
     "name": "stdout",
     "output_type": "stream",
     "text": [
      "Attention, l'enregistrement commence dans :\n",
      "5\n",
      "4\n",
      "3\n",
      "2\n",
      "1\n",
      "0\n",
      "Prononcer votre Digit : \n",
      "<wave.Wave_write object at 0x00000196A54A33D0>\n",
      "------------------\n",
      "Digit (prédiction) :  [0.00619283 0.2732236  0.00277539 0.08298996 0.01651725 0.4003243\n",
      " 0.02103643 0.00259798 0.00467279 0.18966942]\n",
      "------------------\n"
     ]
    }
   ],
   "source": [
    "pred = rec(scaler, model)"
   ]
  },
  {
   "cell_type": "code",
   "execution_count": 47,
   "metadata": {},
   "outputs": [
    {
     "name": "stdout",
     "output_type": "stream",
     "text": [
      "Prediction :  5\n",
      "0.006192827\n",
      "0.2732236\n",
      "0.0027753888\n",
      "0.08298996\n",
      "0.016517254\n",
      "0.4003243\n",
      "0.021036427\n",
      "0.002597982\n",
      "0.0046727904\n",
      "0.18966942\n"
     ]
    }
   ],
   "source": [
    "# Pour Tensorflow :\n",
    "\n",
    "print(\"Prediction : \", np.argmax(pred[0]))\n",
    "for p in pred[0]:\n",
    "    print(p)"
   ]
  },
  {
   "cell_type": "code",
   "execution_count": null,
   "metadata": {},
   "outputs": [],
   "source": []
  },
  {
   "cell_type": "code",
   "execution_count": null,
   "metadata": {},
   "outputs": [],
   "source": []
  }
 ],
 "metadata": {
  "jupytext": {
   "formats": "ipynb,auto:hydrogen"
  },
  "kernelspec": {
   "display_name": "Python 3",
   "language": "python",
   "name": "python3"
  },
  "language_info": {
   "codemirror_mode": {
    "name": "ipython",
    "version": 3
   },
   "file_extension": ".py",
   "mimetype": "text/x-python",
   "name": "python",
   "nbconvert_exporter": "python",
   "pygments_lexer": "ipython3",
   "version": "3.8.3"
  }
 },
 "nbformat": 4,
 "nbformat_minor": 5
}
